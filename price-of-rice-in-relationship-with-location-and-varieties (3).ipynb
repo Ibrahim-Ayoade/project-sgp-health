{
 "cells": [
  {
   "cell_type": "code",
   "execution_count": 52,
   "id": "0d435dde-6809-4f80-810a-30ab0711cbb0",
   "metadata": {},
   "outputs": [],
   "source": [
    "import pandas as pd\n",
    "import matplotlib.pyplot as plt\n",
    "import numpy as np\n",
    "from sklearn.pipeline import Pipeline, make_pipeline\n",
    "from sklearn.model_selection import train_test_split\n",
    "from sklearn.metrics import mean_squared_error\n",
    "from sklearn.tree import DecisionTreeRegressor, plot_tree\n",
    "from category_encoders import OneHotEncoder"
   ]
  },
  {
   "cell_type": "markdown",
   "id": "49059b4f-acf9-4464-818e-89b2e3977b46",
   "metadata": {},
   "source": [
    "# Write a Wrangle Function for the Dataset "
   ]
  },
  {
   "cell_type": "markdown",
   "id": "307286ec-5189-4c2f-9b43-44d8116ee476",
   "metadata": {},
   "source": [
    "**Let's create our Wrangle Function**"
   ]
  },
  {
   "cell_type": "code",
   "execution_count": 11,
   "id": "21d3c193-b847-4017-be5c-24608d62d5e3",
   "metadata": {},
   "outputs": [],
   "source": [
    "def wrangle(filepath):\n",
    "    # Read data into filepath\n",
    "    df = pd.read_csv(filepath)\n",
    "    # Using 'for loop' to estimate 'mean_price_cols' from 'min_price' & 'max_price'\n",
    "    price_cols = df[[\"min_price\", \"max_price\"]]\n",
    "    mean_values = []\n",
    "    for index, row in price_cols.iterrows():\n",
    "        mean_value = row.mean()\n",
    "        mean_values.append(mean_value)\n",
    "    df[\"mean_price_cols\"] = mean_price_cols\n",
    "    # Drop columns with too many cardinality\n",
    "    df.drop(columns=[\"commodity\", \"arrival_date\"], inplace=True)\n",
    "    # Drop leaky columns\n",
    "    df.drop(columns=[\"min_price\", \"max_price\", \"modal_price\"], inplace=True)\n",
    "    # Let's reomve other irrelevant features that will not contribute to our model\n",
    "    df.drop(columns=[\"state\", \"market\", \"district\"], inplace=True)\n",
    "  \n",
    "\n",
    "    return df"
   ]
  },
  {
   "cell_type": "markdown",
   "id": "5563fc87-9eb9-4655-a459-adac4f132f70",
   "metadata": {},
   "source": [
    "**Using wrangle Function to read file into DataFrame**"
   ]
  },
  {
   "cell_type": "code",
   "execution_count": 12,
   "id": "c5097c1d-f5ce-46d3-888f-3d0a9c85475d",
   "metadata": {},
   "outputs": [
    {
     "data": {
      "text/html": [
       "<div>\n",
       "<style scoped>\n",
       "    .dataframe tbody tr th:only-of-type {\n",
       "        vertical-align: middle;\n",
       "    }\n",
       "\n",
       "    .dataframe tbody tr th {\n",
       "        vertical-align: top;\n",
       "    }\n",
       "\n",
       "    .dataframe thead th {\n",
       "        text-align: right;\n",
       "    }\n",
       "</style>\n",
       "<table border=\"1\" class=\"dataframe\">\n",
       "  <thead>\n",
       "    <tr style=\"text-align: right;\">\n",
       "      <th></th>\n",
       "      <th>variety</th>\n",
       "      <th>mean_price_cols</th>\n",
       "    </tr>\n",
       "  </thead>\n",
       "  <tbody>\n",
       "    <tr>\n",
       "      <th>0</th>\n",
       "      <td>Coarse</td>\n",
       "      <td>4250.0</td>\n",
       "    </tr>\n",
       "    <tr>\n",
       "      <th>1</th>\n",
       "      <td>Coarse</td>\n",
       "      <td>4150.0</td>\n",
       "    </tr>\n",
       "    <tr>\n",
       "      <th>2</th>\n",
       "      <td>Coarse</td>\n",
       "      <td>4150.0</td>\n",
       "    </tr>\n",
       "    <tr>\n",
       "      <th>3</th>\n",
       "      <td>Coarse</td>\n",
       "      <td>4150.0</td>\n",
       "    </tr>\n",
       "    <tr>\n",
       "      <th>4</th>\n",
       "      <td>Coarse</td>\n",
       "      <td>4150.0</td>\n",
       "    </tr>\n",
       "  </tbody>\n",
       "</table>\n",
       "</div>"
      ],
      "text/plain": [
       "  variety  mean_price_cols\n",
       "0  Coarse           4250.0\n",
       "1  Coarse           4150.0\n",
       "2  Coarse           4150.0\n",
       "3  Coarse           4150.0\n",
       "4  Coarse           4150.0"
      ]
     },
     "execution_count": 12,
     "metadata": {},
     "output_type": "execute_result"
    }
   ],
   "source": [
    "filepath = \"Rice_2021.csv\"\n",
    "df = wrangle(filepath)\n",
    "df.head()"
   ]
  },
  {
   "cell_type": "markdown",
   "id": "4996a16e-63f0-4460-aa00-48d82af0bfa9",
   "metadata": {},
   "source": [
    "**Check the dataset information**"
   ]
  },
  {
   "cell_type": "code",
   "execution_count": 8,
   "id": "e2b49978-67d4-44c2-919f-79be4acdc213",
   "metadata": {},
   "outputs": [
    {
     "name": "stdout",
     "output_type": "stream",
     "text": [
      "<class 'pandas.core.frame.DataFrame'>\n",
      "RangeIndex: 68251 entries, 0 to 68250\n",
      "Data columns (total 9 columns):\n",
      " #   Column        Non-Null Count  Dtype \n",
      "---  ------        --------------  ----- \n",
      " 0   state         68251 non-null  object\n",
      " 1   district      68251 non-null  object\n",
      " 2   market        68251 non-null  object\n",
      " 3   commodity     68251 non-null  object\n",
      " 4   variety       68251 non-null  object\n",
      " 5   arrival_date  68251 non-null  object\n",
      " 6   min_price     68251 non-null  int64 \n",
      " 7   max_price     68251 non-null  int64 \n",
      " 8   modal_price   68251 non-null  int64 \n",
      "dtypes: int64(3), object(6)\n",
      "memory usage: 4.7+ MB\n"
     ]
    }
   ],
   "source": [
    "df.info()"
   ]
  },
  {
   "cell_type": "markdown",
   "id": "9909eba1-b2f7-4679-89fa-3c61e277c381",
   "metadata": {},
   "source": [
    "**Use for loop to Iterate through the rows and calculate mean_price from \"min_price\" & \"max_price\" of Rice**"
   ]
  },
  {
   "cell_type": "markdown",
   "id": "62e5ab79-d0b4-49ee-83c7-405fd8af96f8",
   "metadata": {},
   "source": [
    "**First create a Dataframe for the \"min_price\" & \"max_price\" columns assign to variable \"price_cols\"**"
   ]
  },
  {
   "cell_type": "code",
   "execution_count": 9,
   "id": "17d7b0c1-af92-451d-a7af-3535848d76b2",
   "metadata": {},
   "outputs": [
    {
     "data": {
      "text/html": [
       "<div>\n",
       "<style scoped>\n",
       "    .dataframe tbody tr th:only-of-type {\n",
       "        vertical-align: middle;\n",
       "    }\n",
       "\n",
       "    .dataframe tbody tr th {\n",
       "        vertical-align: top;\n",
       "    }\n",
       "\n",
       "    .dataframe thead th {\n",
       "        text-align: right;\n",
       "    }\n",
       "</style>\n",
       "<table border=\"1\" class=\"dataframe\">\n",
       "  <thead>\n",
       "    <tr style=\"text-align: right;\">\n",
       "      <th></th>\n",
       "      <th>min_price</th>\n",
       "      <th>max_price</th>\n",
       "    </tr>\n",
       "  </thead>\n",
       "  <tbody>\n",
       "    <tr>\n",
       "      <th>0</th>\n",
       "      <td>4000</td>\n",
       "      <td>4500</td>\n",
       "    </tr>\n",
       "    <tr>\n",
       "      <th>1</th>\n",
       "      <td>3900</td>\n",
       "      <td>4400</td>\n",
       "    </tr>\n",
       "    <tr>\n",
       "      <th>2</th>\n",
       "      <td>3900</td>\n",
       "      <td>4400</td>\n",
       "    </tr>\n",
       "    <tr>\n",
       "      <th>3</th>\n",
       "      <td>3900</td>\n",
       "      <td>4400</td>\n",
       "    </tr>\n",
       "    <tr>\n",
       "      <th>4</th>\n",
       "      <td>3900</td>\n",
       "      <td>4400</td>\n",
       "    </tr>\n",
       "  </tbody>\n",
       "</table>\n",
       "</div>"
      ],
      "text/plain": [
       "   min_price  max_price\n",
       "0       4000       4500\n",
       "1       3900       4400\n",
       "2       3900       4400\n",
       "3       3900       4400\n",
       "4       3900       4400"
      ]
     },
     "execution_count": 9,
     "metadata": {},
     "output_type": "execute_result"
    }
   ],
   "source": [
    "price_cols = df[[\"min_price\", \"max_price\"]]\n",
    "price_cols[:5]"
   ]
  },
  {
   "cell_type": "markdown",
   "id": "b1c0fd5a-5930-4e63-b89c-60e12fa5eee7",
   "metadata": {},
   "source": [
    "**Now, use \"for loop\" to iterate through the rows to calculate our \"mean_price_cols\"**"
   ]
  },
  {
   "cell_type": "code",
   "execution_count": 5,
   "id": "107854ac-1c45-439c-ac9a-d88538dcbbfc",
   "metadata": {},
   "outputs": [],
   "source": [
    "price_cols = df[[\"min_price\", \"max_price\"]]\n",
    "mean_price_cols = []\n",
    "for index, row in price_cols.iterrows():\n",
    "    mean_value = row.mean()\n",
    "    mean_price_cols.append(mean_value)\n"
   ]
  },
  {
   "cell_type": "markdown",
   "id": "94cae766-23f2-4260-81da-61288d9555fa",
   "metadata": {},
   "source": [
    "**Let's check to confirm that the \"for loop\" is working**  "
   ]
  },
  {
   "cell_type": "code",
   "execution_count": 7,
   "id": "5518655a-16ba-4726-901a-8f54a124cb9d",
   "metadata": {},
   "outputs": [
    {
     "data": {
      "text/plain": [
       "0    4250.0\n",
       "1    4150.0\n",
       "2    4150.0\n",
       "3    4150.0\n",
       "4    4150.0\n",
       "Name: mean_price_cols, dtype: float64"
      ]
     },
     "execution_count": 7,
     "metadata": {},
     "output_type": "execute_result"
    }
   ],
   "source": [
    "df[\"mean_price_cols\"] = mean_price_cols\n",
    "df[\"mean_price_cols\"].head()"
   ]
  },
  {
   "cell_type": "markdown",
   "id": "238bf305-54f2-4ea6-84c2-d85488bad1c9",
   "metadata": {},
   "source": [
    "**Let's drop too high cardinality columns and add to the wrangle function up above**"
   ]
  },
  {
   "cell_type": "code",
   "execution_count": 8,
   "id": "7edc998a-5689-452c-913b-f15368efbe10",
   "metadata": {},
   "outputs": [],
   "source": [
    "df.drop(columns=[\"commodity\", \"arrival_date\"], inplace=True)"
   ]
  },
  {
   "cell_type": "markdown",
   "id": "ffdcee96-8169-4ca0-98b9-d8c620816013",
   "metadata": {},
   "source": [
    "**Let's drop leaky columns from the DataFrame and add to the wrangle function up above**"
   ]
  },
  {
   "cell_type": "code",
   "execution_count": 9,
   "id": "a38485aa-b0f4-47eb-8a7d-8a4cc1e4c1b7",
   "metadata": {},
   "outputs": [],
   "source": [
    "df.drop(columns=[\"min_price\", \"max_price\", \"modal_price\"], inplace=True)"
   ]
  },
  {
   "cell_type": "code",
   "execution_count": 10,
   "id": "fb942957-ccdf-4ac7-888d-8ae59a46b1a8",
   "metadata": {},
   "outputs": [],
   "source": [
    "df.drop(columns=[\"state\", \"market\", \"district\"], inplace=True)"
   ]
  },
  {
   "cell_type": "markdown",
   "id": "4fa51db0-56e9-43bc-858b-257deac04f52",
   "metadata": {},
   "source": [
    "# Explore the Dataset"
   ]
  },
  {
   "cell_type": "markdown",
   "id": "bb306012-9d51-41f7-8dbc-1c112fd47968",
   "metadata": {},
   "source": [
    "**Let's see the relationship between the \"mean_price_cols\" & \"state\" columns**"
   ]
  },
  {
   "cell_type": "code",
   "execution_count": 20,
   "id": "db42cda9-be20-4e67-b3b0-7fc719272010",
   "metadata": {},
   "outputs": [
    {
     "data": {
      "text/plain": [
       "state\n",
       "Manipur          4454.545455\n",
       "Gujarat          4049.538934\n",
       "Karnataka        3414.696730\n",
       "Kerala           3408.766626\n",
       "Maharashtra      3101.341823\n",
       "Tripura          3011.607430\n",
       "Odisha           2873.026063\n",
       "West Bengal      2829.280098\n",
       "Uttar Pradesh    2477.944980\n",
       "Jharkhand        2420.204604\n",
       "Telangana        2261.111111\n",
       "Name: mean_price_cols, dtype: float64"
      ]
     },
     "execution_count": 20,
     "metadata": {},
     "output_type": "execute_result"
    }
   ],
   "source": [
    "mean_price_by_state = df.groupby(\"state\")[\"mean_price_cols\"].mean().sort_values(ascending=False)\n",
    "mean_price_by_state"
   ]
  },
  {
   "cell_type": "markdown",
   "id": "07482659-ba12-4b63-85b8-f41fd122ac1b",
   "metadata": {},
   "source": [
    "**Let's create a bar chart to visualize price of Rice by state**"
   ]
  },
  {
   "cell_type": "code",
   "execution_count": 30,
   "id": "16865b79-0681-4912-8dc1-4bbfa5243a25",
   "metadata": {},
   "outputs": [
    {
     "data": {
      "image/png": "[encoded data removed]",
      "text/plain": [
       "<Figure size 640x480 with 1 Axes>"
      ]
     },
     "metadata": {},
     "output_type": "display_data"
    }
   ],
   "source": [
    "mean_price_by_state.plot(kind=\"bar\", xlabel= \"Mean Price by State\", y= \"State\")\n",
    "plt.title(\"Prices of Rice by State in India in 2021\");"
   ]
  },
  {
   "cell_type": "markdown",
   "id": "b1e6b403-3f72-42cd-8b44-d6259aadd1d0",
   "metadata": {},
   "source": [
    "**Let's see the relationship between the \"mean_price_cols\" & top 10 varieties**"
   ]
  },
  {
   "cell_type": "code",
   "execution_count": 26,
   "id": "a8842d61-0ad6-47f9-acbc-dc46cd787589",
   "metadata": {},
   "outputs": [
    {
     "data": {
      "text/plain": [
       "variety\n",
       "Basumathi                  10472.727273\n",
       "Fine(Basmati)               6099.271654\n",
       "Basmati U.P. (New)          6054.166667\n",
       "CR 1009 (Coarse) Boiled     4699.783550\n",
       "Super Fine                  4163.105263\n",
       "Hamsa St.                   3991.666667\n",
       "Sona Fine                   3850.000000\n",
       "Mataa Parboiled             3848.339483\n",
       "Medium                      3755.525000\n",
       "Sona                        3468.564815\n",
       "Name: mean_price_cols, dtype: float64"
      ]
     },
     "execution_count": 26,
     "metadata": {},
     "output_type": "execute_result"
    }
   ],
   "source": [
    "mean_price_by_variety = df.groupby(\"variety\")[\"mean_price_cols\"].mean().sort_values(ascending=False).head(10)\n",
    "mean_price_by_variety"
   ]
  },
  {
   "cell_type": "markdown",
   "id": "79d4ad23-abf8-4060-9b15-767b97dade83",
   "metadata": {},
   "source": [
    "**Let's visualize the top 10 most selling varieties of Rice in India**"
   ]
  },
  {
   "cell_type": "code",
   "execution_count": 28,
   "id": "e97a32e2-031c-450b-9844-123ce35498ee",
   "metadata": {},
   "outputs": [
    {
     "data": {
      "image/png": "[encoded data removed]",
      "text/plain": [
       "<Figure size 640x480 with 1 Axes>"
      ]
     },
     "metadata": {},
     "output_type": "display_data"
    }
   ],
   "source": [
    "mean_price_by_variety.plot(kind=\"barh\", xlabel=\"Mean Price by Variety\", y=\"Variety\");\n",
    "plt.title(\"Top 10 Most Selling Varieties of Rice in India in 2021\");"
   ]
  },
  {
   "cell_type": "markdown",
   "id": "99e922b7-97e8-4904-8c09-4872e6f9c7ca",
   "metadata": {},
   "source": [
    "**Indeed Basumathi varieties are the best-selling Rice with the most high price in India. Known for their long grains, distinct aroma, and delicious flavor.**"
   ]
  },
  {
   "cell_type": "markdown",
   "id": "7ec9ad60-387c-4e80-842a-cecf94540374",
   "metadata": {},
   "source": [
    "**Let's see the relationship between the \"mean_price_cols\" & \"market\" columns** "
   ]
  },
  {
   "cell_type": "code",
   "execution_count": 32,
   "id": "056da3aa-e597-4189-89bf-eb0afdad4352",
   "metadata": {},
   "outputs": [
    {
     "data": {
      "text/plain": [
       "market\n",
       "Kalimpong              8037.037037\n",
       "Pune                   5866.666667\n",
       "Ramanagara             5692.500000\n",
       "Mumbai                 5427.777778\n",
       "Bhadravathi            5300.000000\n",
       "Aroor                  5237.248322\n",
       "Kolar                  5114.393939\n",
       "Karjat                 4949.170124\n",
       "Karsiyang(Matigara)    4917.548077\n",
       "Gokak                  4808.000000\n",
       "Name: mean_price_cols, dtype: float64"
      ]
     },
     "execution_count": 32,
     "metadata": {},
     "output_type": "execute_result"
    }
   ],
   "source": [
    "mean_price_by_market = df.groupby(\"market\")[\"mean_price_cols\"].mean().sort_values(ascending=False).head(10)\n",
    "mean_price_by_market"
   ]
  },
  {
   "cell_type": "markdown",
   "id": "e5179a61-503a-4c6c-ae3b-6c989babd26d",
   "metadata": {},
   "source": [
    "**Let's Visualize the top 10 Markets with most sales of Rice in India in 2021**"
   ]
  },
  {
   "cell_type": "code",
   "execution_count": 33,
   "id": "0c9da9d2-116a-47e5-81fd-7cfeb4c4eb0d",
   "metadata": {},
   "outputs": [
    {
     "data": {
      "image/png": "[encoded data removed]",
      "text/plain": [
       "<Figure size 640x480 with 1 Axes>"
      ]
     },
     "metadata": {},
     "output_type": "display_data"
    }
   ],
   "source": [
    "mean_price_by_market.plot(kind=\"barh\", xlabel=\"Mean Price by Market\", y=\"Market\")\n",
    "plt.title(\"Top 10 Markets with Most Sales of Rice in India in 2021\");"
   ]
  },
  {
   "cell_type": "markdown",
   "id": "a08ea97b-2b06-4e2c-abec-61dbc507e3cc",
   "metadata": {},
   "source": [
    "**Kalimpong Market Located in West Bengal has most high price of Rice in 2021**"
   ]
  },
  {
   "cell_type": "markdown",
   "id": "aee2f4dc-85cf-4937-bb4e-a0c46631cc0f",
   "metadata": {},
   "source": [
    "**Let's see the relationship between the \"mean_price_cols\" & \"district\" columns**"
   ]
  },
  {
   "cell_type": "code",
   "execution_count": 34,
   "id": "a8649c6d-8bd9-4c64-9337-0fcd8fb21e78",
   "metadata": {},
   "outputs": [
    {
     "data": {
      "text/plain": [
       "district\n",
       "Mumbai               5427.777778\n",
       "Alappuzha            5237.248322\n",
       "Belgaum              4808.000000\n",
       "Bangalore            4563.461538\n",
       "Ahmednagar           4543.540000\n",
       "Mysore               4525.951389\n",
       "Imphal East          4500.000000\n",
       "Imphal West          4500.000000\n",
       "Gautam Budh Nagar    4478.826923\n",
       "Thoubal              4400.000000\n",
       "Name: mean_price_cols, dtype: float64"
      ]
     },
     "execution_count": 34,
     "metadata": {},
     "output_type": "execute_result"
    }
   ],
   "source": [
    "mean_price_by_district = df.groupby(\"district\")[\"mean_price_cols\"].mean().sort_values(ascending=False).head(10)\n",
    "mean_price_by_district"
   ]
  },
  {
   "cell_type": "markdown",
   "id": "ba661fb6-0d40-429e-8b3e-9f5e11d9b1ca",
   "metadata": {},
   "source": [
    "**Let's Visualize the top 10 Districts where price of Rice is most in India in 2021**"
   ]
  },
  {
   "cell_type": "code",
   "execution_count": 35,
   "id": "655fde15-b24e-411e-abbd-f64fdef67c49",
   "metadata": {},
   "outputs": [
    {
     "data": {
      "text/plain": [
       "Text(0.5, 1.0, 'Top 10 Districts Where Prices of Rice are Mostly High in India in 2021')"
      ]
     },
     "execution_count": 35,
     "metadata": {},
     "output_type": "execute_result"
    },
    {
     "data": {
      "image/png": "[encoded data removed]",
      "text/plain": [
       "<Figure size 640x480 with 1 Axes>"
      ]
     },
     "metadata": {},
     "output_type": "display_data"
    }
   ],
   "source": [
    "mean_price_by_district.plot(kind=\"barh\", xlabel=\"Mean Price by District\", y=\"District\")\n",
    "plt.title(\"Top 10 Districts Where Prices of Rice are Mostly High in India in 2021\")"
   ]
  },
  {
   "cell_type": "markdown",
   "id": "4ab28362-bc4f-4363-a807-18fcc39aba74",
   "metadata": {},
   "source": [
    "**Rice in Mumbai District was most expensive in 2021 in India**"
   ]
  },
  {
   "cell_type": "markdown",
   "id": "14fd4006-3b5d-4710-b675-0a9ca5f39eb1",
   "metadata": {},
   "source": [
    "**Distribution of rice across States in Inia**"
   ]
  },
  {
   "cell_type": "code",
   "execution_count": 16,
   "id": "2bdc1971-9e05-4003-a8d9-1233f8f7f031",
   "metadata": {},
   "outputs": [
    {
     "data": {
      "text/plain": [
       "variety\n",
       "III                       26292\n",
       "Other                     10720\n",
       "Common                     9864\n",
       "Fine                       9532\n",
       "Coarse                     3468\n",
       "Masuri                     1318\n",
       "Ratnachudi (718 5-749)     1064\n",
       "1009 Kar                   1014\n",
       "Medium                      740\n",
       "Broken Rice                 655\n",
       "Name: count, dtype: int64"
      ]
     },
     "execution_count": 16,
     "metadata": {},
     "output_type": "execute_result"
    }
   ],
   "source": [
    "var_dist = df[\"variety\"].value_counts().sort_values(ascending=False).head(10)\n",
    "var_dist"
   ]
  },
  {
   "cell_type": "markdown",
   "id": "54102cd2-3d85-4930-9cb7-8656cec8e189",
   "metadata": {},
   "source": [
    "**Plot bar chart to visualize distribution of rice**"
   ]
  },
  {
   "cell_type": "code",
   "execution_count": 24,
   "id": "62a896cc-c124-42e2-b191-e57fc909288c",
   "metadata": {},
   "outputs": [
    {
     "data": {
      "image/png": "[encoded data removed]",
      "text/plain": [
       "<Figure size 640x480 with 1 Axes>"
      ]
     },
     "metadata": {},
     "output_type": "display_data"
    }
   ],
   "source": [
    "var_dist.plot(kind=\"bar\")\n",
    "plt.xlabel(\"Varieties\"),\n",
    "plt.ylabel(\"Frequency [count]\"),\n",
    "plt.title(\"Distribution of Top 10 Rice Varieties Across States in India\");"
   ]
  },
  {
   "cell_type": "markdown",
   "id": "2fbdcb63-15d6-4d42-a693-ff19f46b2505",
   "metadata": {},
   "source": [
    "# Let's Build a Model to Predict Prices of Rice Varieties"
   ]
  },
  {
   "cell_type": "markdown",
   "id": "cbc3c7f9-8b78-4602-9761-b74cc6f56935",
   "metadata": {},
   "source": [
    "**Let's split our data into 'Feature Matrix' and 'Target Vector'**"
   ]
  },
  {
   "cell_type": "code",
   "execution_count": 26,
   "id": "9e5e8f7d-2c40-463d-9a0c-ff531d748a19",
   "metadata": {},
   "outputs": [
    {
     "name": "stdout",
     "output_type": "stream",
     "text": [
      "X shape (68251, 1)\n",
      "y shape (68251,)\n"
     ]
    }
   ],
   "source": [
    "target = \"mean_price_cols\"\n",
    "X = df.drop(columns = target)\n",
    "y = df[target]\n",
    "\n",
    "print(\"X shape\", X.shape)\n",
    "print(\"y shape\", y.shape)"
   ]
  },
  {
   "cell_type": "markdown",
   "id": "68189f7f-ee05-4d2f-9a81-f09ae9cd5b7f",
   "metadata": {},
   "source": [
    "**Let's split dataset into training and testing sets**"
   ]
  },
  {
   "cell_type": "code",
   "execution_count": 27,
   "id": "2a24bcda-9e19-4219-81ef-ab1567853f87",
   "metadata": {},
   "outputs": [
    {
     "name": "stdout",
     "output_type": "stream",
     "text": [
      "X_train: shape  (54600, 1)\n",
      "X_test: shape  (13651, 1)\n",
      "y_train: shape  (54600,)\n",
      "X_test: shape  (13651, 1)\n"
     ]
    }
   ],
   "source": [
    "X_train, X_test, y_train, y_test = train_test_split(X, y, test_size=0.2, random_state=42)\n",
    "\n",
    "print(\"X_train: shape \", X_train.shape)\n",
    "print(\"X_test: shape \", X_test.shape)\n",
    "print(\"y_train: shape \", y_train.shape)\n",
    "print(\"X_test: shape \", X_test.shape)"
   ]
  },
  {
   "cell_type": "markdown",
   "id": "6c86db1e-c8ed-4caf-81b9-cb06a0e35d7a",
   "metadata": {},
   "source": [
    "**Create and train 'DecisionTreeRegression' Model**"
   ]
  },
  {
   "cell_type": "code",
   "execution_count": 53,
   "id": "7f781cd4-de2f-4a37-87c7-c6e869b0ab25",
   "metadata": {},
   "outputs": [
    {
     "data": {
      "text/html": [
       "<style>#sk-container-id-3 {\n",
       "  /* Definition of color scheme common for light and dark mode */\n",
       "  --sklearn-color-text: black;\n",
       "  --sklearn-color-line: gray;\n",
       "  /* Definition of color scheme for unfitted estimators */\n",
       "  --sklearn-color-unfitted-level-0: #fff5e6;\n",
       "  --sklearn-color-unfitted-level-1: #f6e4d2;\n",
       "  --sklearn-color-unfitted-level-2: #ffe0b3;\n",
       "  --sklearn-color-unfitted-level-3: chocolate;\n",
       "  /* Definition of color scheme for fitted estimators */\n",
       "  --sklearn-color-fitted-level-0: #f0f8ff;\n",
       "  --sklearn-color-fitted-level-1: #d4ebff;\n",
       "  --sklearn-color-fitted-level-2: #b3dbfd;\n",
       "  --sklearn-color-fitted-level-3: cornflowerblue;\n",
       "\n",
       "  /* Specific color for light theme */\n",
       "  --sklearn-color-text-on-default-background: var(--sg-text-color, var(--theme-code-foreground, var(--jp-content-font-color1, black)));\n",
       "  --sklearn-color-background: var(--sg-background-color, var(--theme-background, var(--jp-layout-color0, white)));\n",
       "  --sklearn-color-border-box: var(--sg-text-color, var(--theme-code-foreground, var(--jp-content-font-color1, black)));\n",
       "  --sklearn-color-icon: #696969;\n",
       "\n",
       "  @media (prefers-color-scheme: dark) {\n",
       "    /* Redefinition of color scheme for dark theme */\n",
       "    --sklearn-color-text-on-default-background: var(--sg-text-color, var(--theme-code-foreground, var(--jp-content-font-color1, white)));\n",
       "    --sklearn-color-background: var(--sg-background-color, var(--theme-background, var(--jp-layout-color0, #111)));\n",
       "    --sklearn-color-border-box: var(--sg-text-color, var(--theme-code-foreground, var(--jp-content-font-color1, white)));\n",
       "    --sklearn-color-icon: #878787;\n",
       "  }\n",
       "}\n",
       "\n",
       "#sk-container-id-3 {\n",
       "  color: var(--sklearn-color-text);\n",
       "}\n",
       "\n",
       "#sk-container-id-3 pre {\n",
       "  padding: 0;\n",
       "}\n",
       "\n",
       "#sk-container-id-3 input.sk-hidden--visually {\n",
       "  border: 0;\n",
       "  clip: rect(1px 1px 1px 1px);\n",
       "  clip: rect(1px, 1px, 1px, 1px);\n",
       "  height: 1px;\n",
       "  margin: -1px;\n",
       "  overflow: hidden;\n",
       "  padding: 0;\n",
       "  position: absolute;\n",
       "  width: 1px;\n",
       "}\n",
       "\n",
       "#sk-container-id-3 div.sk-dashed-wrapped {\n",
       "  border: 1px dashed var(--sklearn-color-line);\n",
       "  margin: 0 0.4em 0.5em 0.4em;\n",
       "  box-sizing: border-box;\n",
       "  padding-bottom: 0.4em;\n",
       "  background-color: var(--sklearn-color-background);\n",
       "}\n",
       "\n",
       "#sk-container-id-3 div.sk-container {\n",
       "  /* jupyter's `normalize.less` sets `[hidden] { display: none; }`\n",
       "     but bootstrap.min.css set `[hidden] { display: none !important; }`\n",
       "     so we also need the `!important` here to be able to override the\n",
       "     default hidden behavior on the sphinx rendered scikit-learn.org.\n",
       "     See: https://github.com/scikit-learn/scikit-learn/issues/21755 */\n",
       "  display: inline-block !important;\n",
       "  position: relative;\n",
       "}\n",
       "\n",
       "#sk-container-id-3 div.sk-text-repr-fallback {\n",
       "  display: none;\n",
       "}\n",
       "\n",
       "div.sk-parallel-item,\n",
       "div.sk-serial,\n",
       "div.sk-item {\n",
       "  /* draw centered vertical line to link estimators */\n",
       "  background-image: linear-gradient(var(--sklearn-color-text-on-default-background), var(--sklearn-color-text-on-default-background));\n",
       "  background-size: 2px 100%;\n",
       "  background-repeat: no-repeat;\n",
       "  background-position: center center;\n",
       "}\n",
       "\n",
       "/* Parallel-specific style estimator block */\n",
       "\n",
       "#sk-container-id-3 div.sk-parallel-item::after {\n",
       "  content: \"\";\n",
       "  width: 100%;\n",
       "  border-bottom: 2px solid var(--sklearn-color-text-on-default-background);\n",
       "  flex-grow: 1;\n",
       "}\n",
       "\n",
       "#sk-container-id-3 div.sk-parallel {\n",
       "  display: flex;\n",
       "  align-items: stretch;\n",
       "  justify-content: center;\n",
       "  background-color: var(--sklearn-color-background);\n",
       "  position: relative;\n",
       "}\n",
       "\n",
       "#sk-container-id-3 div.sk-parallel-item {\n",
       "  display: flex;\n",
       "  flex-direction: column;\n",
       "}\n",
       "\n",
       "#sk-container-id-3 div.sk-parallel-item:first-child::after {\n",
       "  align-self: flex-end;\n",
       "  width: 50%;\n",
       "}\n",
       "\n",
       "#sk-container-id-3 div.sk-parallel-item:last-child::after {\n",
       "  align-self: flex-start;\n",
       "  width: 50%;\n",
       "}\n",
       "\n",
       "#sk-container-id-3 div.sk-parallel-item:only-child::after {\n",
       "  width: 0;\n",
       "}\n",
       "\n",
       "/* Serial-specific style estimator block */\n",
       "\n",
       "#sk-container-id-3 div.sk-serial {\n",
       "  display: flex;\n",
       "  flex-direction: column;\n",
       "  align-items: center;\n",
       "  background-color: var(--sklearn-color-background);\n",
       "  padding-right: 1em;\n",
       "  padding-left: 1em;\n",
       "}\n",
       "\n",
       "\n",
       "/* Toggleable style: style used for estimator/Pipeline/ColumnTransformer box that is\n",
       "clickable and can be expanded/collapsed.\n",
       "- Pipeline and ColumnTransformer use this feature and define the default style\n",
       "- Estimators will overwrite some part of the style using the `sk-estimator` class\n",
       "*/\n",
       "\n",
       "/* Pipeline and ColumnTransformer style (default) */\n",
       "\n",
       "#sk-container-id-3 div.sk-toggleable {\n",
       "  /* Default theme specific background. It is overwritten whether we have a\n",
       "  specific estimator or a Pipeline/ColumnTransformer */\n",
       "  background-color: var(--sklearn-color-background);\n",
       "}\n",
       "\n",
       "/* Toggleable label */\n",
       "#sk-container-id-3 label.sk-toggleable__label {\n",
       "  cursor: pointer;\n",
       "  display: block;\n",
       "  width: 100%;\n",
       "  margin-bottom: 0;\n",
       "  padding: 0.5em;\n",
       "  box-sizing: border-box;\n",
       "  text-align: center;\n",
       "}\n",
       "\n",
       "#sk-container-id-3 label.sk-toggleable__label-arrow:before {\n",
       "  /* Arrow on the left of the label */\n",
       "  content: \"▸\";\n",
       "  float: left;\n",
       "  margin-right: 0.25em;\n",
       "  color: var(--sklearn-color-icon);\n",
       "}\n",
       "\n",
       "#sk-container-id-3 label.sk-toggleable__label-arrow:hover:before {\n",
       "  color: var(--sklearn-color-text);\n",
       "}\n",
       "\n",
       "/* Toggleable content - dropdown */\n",
       "\n",
       "#sk-container-id-3 div.sk-toggleable__content {\n",
       "  max-height: 0;\n",
       "  max-width: 0;\n",
       "  overflow: hidden;\n",
       "  text-align: left;\n",
       "  /* unfitted */\n",
       "  background-color: var(--sklearn-color-unfitted-level-0);\n",
       "}\n",
       "\n",
       "#sk-container-id-3 div.sk-toggleable__content.fitted {\n",
       "  /* fitted */\n",
       "  background-color: var(--sklearn-color-fitted-level-0);\n",
       "}\n",
       "\n",
       "#sk-container-id-3 div.sk-toggleable__content pre {\n",
       "  margin: 0.2em;\n",
       "  border-radius: 0.25em;\n",
       "  color: var(--sklearn-color-text);\n",
       "  /* unfitted */\n",
       "  background-color: var(--sklearn-color-unfitted-level-0);\n",
       "}\n",
       "\n",
       "#sk-container-id-3 div.sk-toggleable__content.fitted pre {\n",
       "  /* unfitted */\n",
       "  background-color: var(--sklearn-color-fitted-level-0);\n",
       "}\n",
       "\n",
       "#sk-container-id-3 input.sk-toggleable__control:checked~div.sk-toggleable__content {\n",
       "  /* Expand drop-down */\n",
       "  max-height: 200px;\n",
       "  max-width: 100%;\n",
       "  overflow: auto;\n",
       "}\n",
       "\n",
       "#sk-container-id-3 input.sk-toggleable__control:checked~label.sk-toggleable__label-arrow:before {\n",
       "  content: \"▾\";\n",
       "}\n",
       "\n",
       "/* Pipeline/ColumnTransformer-specific style */\n",
       "\n",
       "#sk-container-id-3 div.sk-label input.sk-toggleable__control:checked~label.sk-toggleable__label {\n",
       "  color: var(--sklearn-color-text);\n",
       "  background-color: var(--sklearn-color-unfitted-level-2);\n",
       "}\n",
       "\n",
       "#sk-container-id-3 div.sk-label.fitted input.sk-toggleable__control:checked~label.sk-toggleable__label {\n",
       "  background-color: var(--sklearn-color-fitted-level-2);\n",
       "}\n",
       "\n",
       "/* Estimator-specific style */\n",
       "\n",
       "/* Colorize estimator box */\n",
       "#sk-container-id-3 div.sk-estimator input.sk-toggleable__control:checked~label.sk-toggleable__label {\n",
       "  /* unfitted */\n",
       "  background-color: var(--sklearn-color-unfitted-level-2);\n",
       "}\n",
       "\n",
       "#sk-container-id-3 div.sk-estimator.fitted input.sk-toggleable__control:checked~label.sk-toggleable__label {\n",
       "  /* fitted */\n",
       "  background-color: var(--sklearn-color-fitted-level-2);\n",
       "}\n",
       "\n",
       "#sk-container-id-3 div.sk-label label.sk-toggleable__label,\n",
       "#sk-container-id-3 div.sk-label label {\n",
       "  /* The background is the default theme color */\n",
       "  color: var(--sklearn-color-text-on-default-background);\n",
       "}\n",
       "\n",
       "/* On hover, darken the color of the background */\n",
       "#sk-container-id-3 div.sk-label:hover label.sk-toggleable__label {\n",
       "  color: var(--sklearn-color-text);\n",
       "  background-color: var(--sklearn-color-unfitted-level-2);\n",
       "}\n",
       "\n",
       "/* Label box, darken color on hover, fitted */\n",
       "#sk-container-id-3 div.sk-label.fitted:hover label.sk-toggleable__label.fitted {\n",
       "  color: var(--sklearn-color-text);\n",
       "  background-color: var(--sklearn-color-fitted-level-2);\n",
       "}\n",
       "\n",
       "/* Estimator label */\n",
       "\n",
       "#sk-container-id-3 div.sk-label label {\n",
       "  font-family: monospace;\n",
       "  font-weight: bold;\n",
       "  display: inline-block;\n",
       "  line-height: 1.2em;\n",
       "}\n",
       "\n",
       "#sk-container-id-3 div.sk-label-container {\n",
       "  text-align: center;\n",
       "}\n",
       "\n",
       "/* Estimator-specific */\n",
       "#sk-container-id-3 div.sk-estimator {\n",
       "  font-family: monospace;\n",
       "  border: 1px dotted var(--sklearn-color-border-box);\n",
       "  border-radius: 0.25em;\n",
       "  box-sizing: border-box;\n",
       "  margin-bottom: 0.5em;\n",
       "  /* unfitted */\n",
       "  background-color: var(--sklearn-color-unfitted-level-0);\n",
       "}\n",
       "\n",
       "#sk-container-id-3 div.sk-estimator.fitted {\n",
       "  /* fitted */\n",
       "  background-color: var(--sklearn-color-fitted-level-0);\n",
       "}\n",
       "\n",
       "/* on hover */\n",
       "#sk-container-id-3 div.sk-estimator:hover {\n",
       "  /* unfitted */\n",
       "  background-color: var(--sklearn-color-unfitted-level-2);\n",
       "}\n",
       "\n",
       "#sk-container-id-3 div.sk-estimator.fitted:hover {\n",
       "  /* fitted */\n",
       "  background-color: var(--sklearn-color-fitted-level-2);\n",
       "}\n",
       "\n",
       "/* Specification for estimator info (e.g. \"i\" and \"?\") */\n",
       "\n",
       "/* Common style for \"i\" and \"?\" */\n",
       "\n",
       ".sk-estimator-doc-link,\n",
       "a:link.sk-estimator-doc-link,\n",
       "a:visited.sk-estimator-doc-link {\n",
       "  float: right;\n",
       "  font-size: smaller;\n",
       "  line-height: 1em;\n",
       "  font-family: monospace;\n",
       "  background-color: var(--sklearn-color-background);\n",
       "  border-radius: 1em;\n",
       "  height: 1em;\n",
       "  width: 1em;\n",
       "  text-decoration: none !important;\n",
       "  margin-left: 1ex;\n",
       "  /* unfitted */\n",
       "  border: var(--sklearn-color-unfitted-level-1) 1pt solid;\n",
       "  color: var(--sklearn-color-unfitted-level-1);\n",
       "}\n",
       "\n",
       ".sk-estimator-doc-link.fitted,\n",
       "a:link.sk-estimator-doc-link.fitted,\n",
       "a:visited.sk-estimator-doc-link.fitted {\n",
       "  /* fitted */\n",
       "  border: var(--sklearn-color-fitted-level-1) 1pt solid;\n",
       "  color: var(--sklearn-color-fitted-level-1);\n",
       "}\n",
       "\n",
       "/* On hover */\n",
       "div.sk-estimator:hover .sk-estimator-doc-link:hover,\n",
       ".sk-estimator-doc-link:hover,\n",
       "div.sk-label-container:hover .sk-estimator-doc-link:hover,\n",
       ".sk-estimator-doc-link:hover {\n",
       "  /* unfitted */\n",
       "  background-color: var(--sklearn-color-unfitted-level-3);\n",
       "  color: var(--sklearn-color-background);\n",
       "  text-decoration: none;\n",
       "}\n",
       "\n",
       "div.sk-estimator.fitted:hover .sk-estimator-doc-link.fitted:hover,\n",
       ".sk-estimator-doc-link.fitted:hover,\n",
       "div.sk-label-container:hover .sk-estimator-doc-link.fitted:hover,\n",
       ".sk-estimator-doc-link.fitted:hover {\n",
       "  /* fitted */\n",
       "  background-color: var(--sklearn-color-fitted-level-3);\n",
       "  color: var(--sklearn-color-background);\n",
       "  text-decoration: none;\n",
       "}\n",
       "\n",
       "/* Span, style for the box shown on hovering the info icon */\n",
       ".sk-estimator-doc-link span {\n",
       "  display: none;\n",
       "  z-index: 9999;\n",
       "  position: relative;\n",
       "  font-weight: normal;\n",
       "  right: .2ex;\n",
       "  padding: .5ex;\n",
       "  margin: .5ex;\n",
       "  width: min-content;\n",
       "  min-width: 20ex;\n",
       "  max-width: 50ex;\n",
       "  color: var(--sklearn-color-text);\n",
       "  box-shadow: 2pt 2pt 4pt #999;\n",
       "  /* unfitted */\n",
       "  background: var(--sklearn-color-unfitted-level-0);\n",
       "  border: .5pt solid var(--sklearn-color-unfitted-level-3);\n",
       "}\n",
       "\n",
       ".sk-estimator-doc-link.fitted span {\n",
       "  /* fitted */\n",
       "  background: var(--sklearn-color-fitted-level-0);\n",
       "  border: var(--sklearn-color-fitted-level-3);\n",
       "}\n",
       "\n",
       ".sk-estimator-doc-link:hover span {\n",
       "  display: block;\n",
       "}\n",
       "\n",
       "/* \"?\"-specific style due to the `<a>` HTML tag */\n",
       "\n",
       "#sk-container-id-3 a.estimator_doc_link {\n",
       "  float: right;\n",
       "  font-size: 1rem;\n",
       "  line-height: 1em;\n",
       "  font-family: monospace;\n",
       "  background-color: var(--sklearn-color-background);\n",
       "  border-radius: 1rem;\n",
       "  height: 1rem;\n",
       "  width: 1rem;\n",
       "  text-decoration: none;\n",
       "  /* unfitted */\n",
       "  color: var(--sklearn-color-unfitted-level-1);\n",
       "  border: var(--sklearn-color-unfitted-level-1) 1pt solid;\n",
       "}\n",
       "\n",
       "#sk-container-id-3 a.estimator_doc_link.fitted {\n",
       "  /* fitted */\n",
       "  border: var(--sklearn-color-fitted-level-1) 1pt solid;\n",
       "  color: var(--sklearn-color-fitted-level-1);\n",
       "}\n",
       "\n",
       "/* On hover */\n",
       "#sk-container-id-3 a.estimator_doc_link:hover {\n",
       "  /* unfitted */\n",
       "  background-color: var(--sklearn-color-unfitted-level-3);\n",
       "  color: var(--sklearn-color-background);\n",
       "  text-decoration: none;\n",
       "}\n",
       "\n",
       "#sk-container-id-3 a.estimator_doc_link.fitted:hover {\n",
       "  /* fitted */\n",
       "  background-color: var(--sklearn-color-fitted-level-3);\n",
       "}\n",
       "</style><div id=\"sk-container-id-3\" class=\"sk-top-container\"><div class=\"sk-text-repr-fallback\"><pre>Pipeline(steps=[(&#x27;onehotencoder&#x27;,\n",
       "                 OneHotEncoder(cols=[&#x27;variety&#x27;], use_cat_names=True)),\n",
       "                (&#x27;decisiontreeregressor&#x27;,\n",
       "                 DecisionTreeRegressor(random_state=42))])</pre><b>In a Jupyter environment, please rerun this cell to show the HTML representation or trust the notebook. <br />On GitHub, the HTML representation is unable to render, please try loading this page with nbviewer.org.</b></div><div class=\"sk-container\" hidden><div class=\"sk-item sk-dashed-wrapped\"><div class=\"sk-label-container\"><div class=\"sk-label fitted sk-toggleable\"><input class=\"sk-toggleable__control sk-hidden--visually\" id=\"sk-estimator-id-7\" type=\"checkbox\" ><label for=\"sk-estimator-id-7\" class=\"sk-toggleable__label fitted sk-toggleable__label-arrow fitted\">&nbsp;&nbsp;Pipeline<a class=\"sk-estimator-doc-link fitted\" rel=\"noreferrer\" target=\"_blank\" href=\"https://scikit-learn.org/1.5/modules/generated/sklearn.pipeline.Pipeline.html\">?<span>Documentation for Pipeline</span></a><span class=\"sk-estimator-doc-link fitted\">i<span>Fitted</span></span></label><div class=\"sk-toggleable__content fitted\"><pre>Pipeline(steps=[(&#x27;onehotencoder&#x27;,\n",
       "                 OneHotEncoder(cols=[&#x27;variety&#x27;], use_cat_names=True)),\n",
       "                (&#x27;decisiontreeregressor&#x27;,\n",
       "                 DecisionTreeRegressor(random_state=42))])</pre></div> </div></div><div class=\"sk-serial\"><div class=\"sk-item\"><div class=\"sk-estimator fitted sk-toggleable\"><input class=\"sk-toggleable__control sk-hidden--visually\" id=\"sk-estimator-id-8\" type=\"checkbox\" ><label for=\"sk-estimator-id-8\" class=\"sk-toggleable__label fitted sk-toggleable__label-arrow fitted\">OneHotEncoder</label><div class=\"sk-toggleable__content fitted\"><pre>OneHotEncoder(cols=[&#x27;variety&#x27;], use_cat_names=True)</pre></div> </div></div><div class=\"sk-item\"><div class=\"sk-estimator fitted sk-toggleable\"><input class=\"sk-toggleable__control sk-hidden--visually\" id=\"sk-estimator-id-9\" type=\"checkbox\" ><label for=\"sk-estimator-id-9\" class=\"sk-toggleable__label fitted sk-toggleable__label-arrow fitted\">&nbsp;DecisionTreeRegressor<a class=\"sk-estimator-doc-link fitted\" rel=\"noreferrer\" target=\"_blank\" href=\"https://scikit-learn.org/1.5/modules/generated/sklearn.tree.DecisionTreeRegressor.html\">?<span>Documentation for DecisionTreeRegressor</span></a></label><div class=\"sk-toggleable__content fitted\"><pre>DecisionTreeRegressor(random_state=42)</pre></div> </div></div></div></div></div></div>"
      ],
      "text/plain": [
       "Pipeline(steps=[('onehotencoder',\n",
       "                 OneHotEncoder(cols=['variety'], use_cat_names=True)),\n",
       "                ('decisiontreeregressor',\n",
       "                 DecisionTreeRegressor(random_state=42))])"
      ]
     },
     "execution_count": 53,
     "metadata": {},
     "output_type": "execute_result"
    }
   ],
   "source": [
    "model = make_pipeline(OneHotEncoder(use_cat_names=True), DecisionTreeRegressor(random_state=42))\n",
    "model.fit(X_train, y_train)"
   ]
  },
  {
   "cell_type": "markdown",
   "id": "1c529ad3-7902-4214-b4c3-2b6e426d1d1a",
   "metadata": {},
   "source": [
    "**Let's make predictions from the test set**"
   ]
  },
  {
   "cell_type": "code",
   "execution_count": 54,
   "id": "fcf3217e-1103-46f3-9f81-0bb03bca7bd8",
   "metadata": {},
   "outputs": [
    {
     "data": {
      "text/plain": [
       "array([2455.69782547, 3083.71901752, 2068.69024857, 3460.07882883,\n",
       "       3020.57750495])"
      ]
     },
     "execution_count": 54,
     "metadata": {},
     "output_type": "execute_result"
    }
   ],
   "source": [
    "y_pred = model.predict(X_test)\n",
    "y_pred[:5]"
   ]
  },
  {
   "cell_type": "markdown",
   "id": "c25d2d22-03e0-41f0-b0ae-28bc411e0f03",
   "metadata": {},
   "source": [
    "**Evaluate the Model to check its performance**"
   ]
  },
  {
   "cell_type": "code",
   "execution_count": 55,
   "id": "c3b4b30c-fd4a-484c-ad42-432c41f9571a",
   "metadata": {},
   "outputs": [
    {
     "name": "stdout",
     "output_type": "stream",
     "text": [
      "Mean Square Error: 230836.0644165543\n"
     ]
    }
   ],
   "source": [
    "mse = mean_squared_error(y_test, y_pred)\n",
    "print(f\"Mean Square Error: {mse}\")"
   ]
  },
  {
   "cell_type": "markdown",
   "id": "0376bc7c-2d59-4440-a926-35ec27a78755",
   "metadata": {},
   "source": [
    "**Compute Mean of Target Variable**"
   ]
  },
  {
   "cell_type": "code",
   "execution_count": 56,
   "id": "23ea78a3-3cbf-498b-adcc-00529c1a1765",
   "metadata": {},
   "outputs": [
    {
     "name": "stdout",
     "output_type": "stream",
     "text": [
      "2733.06\n"
     ]
    }
   ],
   "source": [
    "mean_target = np.mean(y_train)\n",
    "print(round(mean_target, 2))"
   ]
  },
  {
   "cell_type": "markdown",
   "id": "a434400d-cae1-4ce7-971a-0e5209979255",
   "metadata": {},
   "source": [
    "**Generate baseline predictions**"
   ]
  },
  {
   "cell_type": "code",
   "execution_count": 57,
   "id": "20a39c48-877b-4aee-8ea7-a068502df533",
   "metadata": {},
   "outputs": [
    {
     "data": {
      "text/plain": [
       "array([2733.05799451, 2733.05799451, 2733.05799451, 2733.05799451,\n",
       "       2733.05799451])"
      ]
     },
     "execution_count": 57,
     "metadata": {},
     "output_type": "execute_result"
    }
   ],
   "source": [
    "baseline_pred = np.full_like(y_test, mean_target, dtype=np.float64)\n",
    "baseline_pred[:5]"
   ]
  },
  {
   "cell_type": "markdown",
   "id": "5f3d34d4-ea52-4791-80b8-6e5a891c4b3f",
   "metadata": {},
   "source": [
    "**Compute the Mean Squared Error (MSE) of the Baseline Model**"
   ]
  },
  {
   "cell_type": "code",
   "execution_count": 58,
   "id": "4535aa2e-ad45-4bc8-a46b-4aed2dac72e9",
   "metadata": {},
   "outputs": [
    {
     "name": "stdout",
     "output_type": "stream",
     "text": [
      "Baseline Model MSE: (435429.8102751374)\n"
     ]
    }
   ],
   "source": [
    "baseline_mse = mean_squared_error(y_test, baseline_pred)\n",
    "\n",
    "print(f\"Baseline Model MSE: ({baseline_mse})\")"
   ]
  },
  {
   "cell_type": "markdown",
   "id": "69f48a81-0b9d-45f4-a9a9-7131e0475483",
   "metadata": {},
   "source": [
    "**Comment on the Model Performance**"
   ]
  },
  {
   "cell_type": "code",
   "execution_count": 51,
   "id": "15ee0c28-0c17-409e-8460-a27528729ab1",
   "metadata": {},
   "outputs": [
    {
     "name": "stdout",
     "output_type": "stream",
     "text": [
      "Comparing the Model MSE 230836.0644165543 with the MSE of the baseline Model 435429.8102751374, there is significant\n",
      "difference between the two values. Baseline Model MSE far greater than the Model MSE, this shows that the \n",
      "model performed really well.\n"
     ]
    }
   ],
   "source": [
    "print(f\"\"\"Comparing the Model MSE {mse} with the MSE of the baseline Model {baseline_mse}, there is significant\n",
    "difference between the two values. Baseline Model MSE far greater than the Model MSE, this shows that the \n",
    "model performed really well.\"\"\")"
   ]
  },
  {
   "cell_type": "markdown",
   "id": "d133a884-2e93-4f86-b15b-fcc4334f83ca",
   "metadata": {},
   "source": [
    "**Let's get Feature Importances from the model**"
   ]
  },
  {
   "cell_type": "code",
   "execution_count": 60,
   "id": "e8f85492-86bc-4bed-967f-6ada1b64a943",
   "metadata": {},
   "outputs": [
    {
     "data": {
      "text/plain": [
       "array(['variety_Coarse', 'variety_III', 'variety_Broken Rice',\n",
       "       'variety_Other', 'variety_Masuri'], dtype=object)"
      ]
     },
     "execution_count": 60,
     "metadata": {},
     "output_type": "execute_result"
    }
   ],
   "source": [
    "features = model.named_steps[\"onehotencoder\"].get_feature_names()\n",
    "features[:5]"
   ]
  },
  {
   "cell_type": "code",
   "execution_count": 62,
   "id": "1cc296bd-f35c-4fca-afdf-c9bf705b7889",
   "metadata": {},
   "outputs": [
    {
     "data": {
      "text/plain": [
       "array([5.79705247e-02, 2.44410556e-01, 4.79903028e-02, 3.53497409e-03,\n",
       "       2.40510792e-05])"
      ]
     },
     "execution_count": 62,
     "metadata": {},
     "output_type": "execute_result"
    }
   ],
   "source": [
    "importances = model.named_steps[\"decisiontreeregressor\"].feature_importances_\n",
    "importances[:5]"
   ]
  },
  {
   "cell_type": "markdown",
   "id": "320c4072-5998-4c04-be64-ca82296fbc81",
   "metadata": {},
   "source": [
    "# Communicate result with bar chart "
   ]
  },
  {
   "cell_type": "code",
   "execution_count": 67,
   "id": "1880ca70-bca9-42ac-9562-a01e7a4a3bc5",
   "metadata": {},
   "outputs": [
    {
     "data": {
      "text/plain": [
       "variety_III                        0.244411\n",
       "variety_Fine(Basmati)              0.189278\n",
       "variety_Basumathi                  0.186570\n",
       "variety_Common                     0.134126\n",
       "variety_Coarse                     0.057971\n",
       "variety_Broken Rice                0.047990\n",
       "variety_CR 1009 (Coarse) Boiled    0.044098\n",
       "variety_Medium                     0.026474\n",
       "variety_Super Fine                 0.018489\n",
       "variety_Mataa Parboiled            0.013614\n",
       "dtype: float64"
      ]
     },
     "execution_count": 67,
     "metadata": {},
     "output_type": "execute_result"
    }
   ],
   "source": [
    "feat_imp = pd.Series(importances, index=features).sort_values(ascending=False).head(10)\n",
    "feat_imp"
   ]
  },
  {
   "cell_type": "code",
   "execution_count": 69,
   "id": "395128bf-5171-450e-b373-785e65dec746",
   "metadata": {},
   "outputs": [
    {
     "data": {
      "image/png": "[encoded data removed]",
      "text/plain": [
       "<Figure size 640x480 with 1 Axes>"
      ]
     },
     "metadata": {},
     "output_type": "display_data"
    }
   ],
   "source": [
    "feat_imp.plot(kind=\"barh\"),\n",
    "plt.xlabel(\"Gini Importance\"),\n",
    "plt.ylabel(\"Features\"),\n",
    "plt.title(\"Rice Varieties Decision Tree, Feature Importance\");"
   ]
  },
  {
   "cell_type": "code",
   "execution_count": 71,
   "id": "66ae9e6b-177a-44c9-bc70-ef92820a6789",
   "metadata": {},
   "outputs": [
    {
     "name": "stdout",
     "output_type": "stream",
     "text": [
      "The varieties of rice categorize under III has influence on prices of rice because of their \n",
      "enormous distribution. And the Basmati varieties definitely influence prices of rice because of the fact that\n",
      "they are generally known for their long grains, distinct aroma, and delicious flavor\n"
     ]
    }
   ],
   "source": [
    "print(f\"\"\"The varieties of rice categorize under III has influence on prices of rice because of their \n",
    "enormous distribution. And the Basmati varieties definitely influence prices of rice because of the fact that\n",
    "they are generally known for their long grains, distinct aroma, and delicious flavor\"\"\")"
   ]
  },
  {
   "cell_type": "code",
   "execution_count": null,
   "id": "9e0aa0ff-f2a1-45ef-bfa1-c9782bb73e3b",
   "metadata": {},
   "outputs": [],
   "source": []
  }
 ],
 "metadata": {
  "kernelspec": {
   "display_name": "Python 3 (ipykernel)",
   "language": "python",
   "name": "python3"
  },
  "language_info": {
   "codemirror_mode": {
    "name": "ipython",
    "version": 3
   },
   "file_extension": ".py",
   "mimetype": "text/x-python",
   "name": "python",
   "nbconvert_exporter": "python",
   "pygments_lexer": "ipython3",
   "version": "3.12.3"
  }
 },
 "nbformat": 4,
 "nbformat_minor": 5
}
